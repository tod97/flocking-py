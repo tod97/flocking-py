{
  "cells": [
    {
      "cell_type": "markdown",
      "metadata": {
        "id": "WaBsEZ1NU4qO"
      },
      "source": [
        "# Automation Lab\n",
        "We want to code an algorythm that simulates a set of robots' movements keeping a determined formation, defined by relative distances"
      ]
    },
    {
      "cell_type": "code",
      "execution_count": null,
      "metadata": {
        "id": "6T0JXNO8UyF1"
      },
      "outputs": [],
      "source": [
        "#IMPORTS\n",
        "import matplotlib.pyplot as plt\n",
        "import numpy as np\n",
        "import math\n",
        "from readchar import readkey, key"
      ]
    },
    {
      "cell_type": "code",
      "execution_count": null,
      "metadata": {
        "id": "7lj89CyWVaYU"
      },
      "outputs": [],
      "source": [
        "#CONSTANTS\n",
        "leader_velocity = 0.5\n",
        "leader_trajectory = 'linear'  # 'linear', 'circular', 'manual'"
      ]
    },
    {
      "cell_type": "code",
      "execution_count": null,
      "metadata": {
        "id": "zZsZizNoVfX5"
      },
      "outputs": [],
      "source": [
        "#NODE\n",
        "class Node:\n",
        "    def __init__(self, x, y):\n",
        "        self.x = x\n",
        "        self.y = y\n",
        "\n",
        "    def __str__(self):\n",
        "        return f\"x: {self.x}, y: {self.y}\"\n",
        "\n",
        "    def distance(self, node):\n",
        "        return np.sqrt((self.x - node.x)**2 + (self.y - node.y)**2)"
      ]
    },
    {
      "cell_type": "code",
      "execution_count": null,
      "metadata": {
        "id": "LY9ucoESVwnA"
      },
      "outputs": [],
      "source": [
        "#UTILS\n",
        "#Makes the user select one of the three possible leader's trajectory\n",
        "def select_trajectory():\n",
        "    global leader_trajectory\n",
        "    while True:\n",
        "        print(\"Menu:\")\n",
        "        print(\"1. Linear trajectory\")\n",
        "        print(\"2. Circular trajectory\")\n",
        "        print(\"3. Manual\")\n",
        "        print(\"0. Exit\")\n",
        "        choice = input(\"Enter the number corresponding to your choice: \")\n",
        "\n",
        "        if choice == \"1\":\n",
        "            leader_trajectory = 'linear'\n",
        "            break\n",
        "        elif choice == \"2\":\n",
        "            leader_trajectory = 'circular'\n",
        "            break\n",
        "        elif choice == \"3\":\n",
        "            leader_trajectory = 'manual'\n",
        "            break\n",
        "        elif choice == \"0\":\n",
        "            return False\n",
        "        else:\n",
        "            print(\"Invalid choice. Please select a valid option.\")\n",
        "            return False\n",
        "    return True\n",
        "\n",
        "#Returns a well defined formation, based on the one passed\n",
        "#formation = 'line' | 'triangle' | 'square'\n",
        "def get_formation(leader, formation):\n",
        "    if formation == 'line':\n",
        "        return [\n",
        "            leader,\n",
        "            Node(leader.x, leader.y-1),\n",
        "            Node(leader.x, leader.y-2),\n",
        "            Node(leader.x, leader.y-3),\n",
        "            Node(leader.x, leader.y-4),\n",
        "        ]\n",
        "    if formation == 'triangle':\n",
        "        return [\n",
        "            leader,\n",
        "            Node(leader.x-1, -1),\n",
        "            Node(leader.x+1, -1),\n",
        "            Node(leader.x-2, -2),\n",
        "            Node(leader.x, -2),\n",
        "            Node(leader.x+2, -2),\n",
        "        ]\n",
        "    if formation == 'square':\n",
        "        return [\n",
        "            leader,\n",
        "            Node(leader.x-1, leader.y+1),\n",
        "            Node(leader.x+1, leader.y+1),\n",
        "            Node(leader.x-1, leader.y-1),\n",
        "            Node(leader.x+1, leader.y-1),\n",
        "        ]\n",
        "    return [leader]\n",
        "\n",
        "#Returns a matrix containing all the distances between all the nodes\n",
        "def get_distances(nodes):\n",
        "    n = len(nodes)\n",
        "    distance_matrix = np.zeros((n, n))\n",
        "\n",
        "    for i in range(n):\n",
        "        for j in range(n):\n",
        "            distance_matrix[i][j] = nodes[i].distance(nodes[j])\n",
        "\n",
        "    return distance_matrix\n",
        "\n",
        "#Plots the nodes on a graph\n",
        "def plot_nodes(nodes, leader_index):\n",
        "    plt.clf()\n",
        "    for i, node in enumerate(nodes):\n",
        "        marker = 'o' if i == leader_index else 'x'\n",
        "        plt.plot(node.x, node.y, marker)\n",
        "    plt.xlabel('X')\n",
        "    plt.ylabel('Y')\n",
        "    plt.title('Movement of Nodes')\n",
        "    ###############################################################################\n",
        "    #These limits follow the leader\n",
        "    plt.xlim(nodes[0].x - 10, nodes[0].x + 10)  # Set the x-axis limits\n",
        "    plt.ylim(nodes[0].y - 10, nodes[0].y + 10)  # Set the y-axis limits\n",
        "    #These limits are fixed\n",
        "    #plt.xlim(-10, 10)\n",
        "    #plt.ylim(-10, 10)\n",
        "    ###############################################################################\n",
        "    plt.grid(False)  # Disable grid lines\n",
        "    plt.pause(0.1)  # Pause for 0.1 seconds to show the plot\n",
        "    plt.draw()\n",
        "\n",
        "\n",
        "#Updates the leader based on the trajectory chosen\n",
        "def updateLeader(leader):\n",
        "    if leader_trajectory == 'manual':\n",
        "        key_pressed = readkey()\n",
        "        if key_pressed == 'q':\n",
        "            return False\n",
        "        elif key_pressed == key.UP:\n",
        "            leader.y += leader_velocity\n",
        "        elif key_pressed == key.DOWN:\n",
        "            leader.y -= leader_velocity\n",
        "        elif key_pressed == key.RIGHT:\n",
        "            leader.x += leader_velocity\n",
        "        elif key_pressed == key.LEFT:\n",
        "            leader.x -= leader_velocity\n",
        "\n",
        "    elif leader_trajectory == 'linear':\n",
        "        leader.x += leader_velocity\n",
        "\n",
        "    elif leader_trajectory == 'circular':\n",
        "        radius = 5\n",
        "        current_angle = math.atan2(leader.y, leader.x+radius)\n",
        "        new_angle = current_angle + 0.1\n",
        "        leader.x = (radius * np.cos(new_angle)) - radius\n",
        "        leader.y = (radius * np.sin(new_angle))\n",
        "\n",
        "    else:\n",
        "        print('Invalid trajectory')\n",
        "        return False\n",
        "    return True"
      ]
    },
    {
      "cell_type": "code",
      "execution_count": null,
      "metadata": {
        "id": "Ms2FD6QMVqVV"
      },
      "outputs": [],
      "source": [
        "#FORCES\n",
        "def attractive_force(node, leader, distance):\n",
        "    angolo = math.atan2(node.y - leader.y, node.x - leader.x)\n",
        "    node.x = leader.x + distance * math.cos(angolo)\n",
        "    node.y = leader.y + distance * math.sin(angolo)\n",
        "\n",
        "def repulsive_force(node, other_node, distance):\n",
        "    # mantain the distance between nodes\n",
        "    if node.distance(other_node) < distance:\n",
        "        angolo = math.atan2(node.y - other_node.y, node.x - other_node.x)\n",
        "        node.x = other_node.x + distance * math.cos(angolo)\n",
        "        node.y = other_node.y + distance * math.sin(angolo)\n"
      ]
    },
    {
      "cell_type": "code",
      "execution_count": null,
      "metadata": {
        "id": "-N0TJZnoWHze"
      },
      "outputs": [],
      "source": [
        "#SIMULATOR\n",
        "def simulate_movement(nodes, distances):\n",
        "    plt.ion()\n",
        "\n",
        "    plot_nodes(nodes, leader_index=0)\n",
        "    while True:\n",
        "        res = updateLeader(nodes[0])\n",
        "        if not res:\n",
        "            break\n",
        "\n",
        "        for i in range(1,len(nodes)):\n",
        "            attractive_force(nodes[i], nodes[0], distances[i][0])\n",
        "\n",
        "            for j in range(1,len(nodes)):\n",
        "                  if i != j:\n",
        "                     repulsive_force(nodes[i], nodes[j], distances[i][j])\n",
        "\n",
        "        plot_nodes(nodes, leader_index=0)\n"
      ]
    },
    {
      "cell_type": "code",
      "execution_count": null,
      "metadata": {
        "colab": {
          "base_uri": "https://localhost:8080/",
          "height": 1000
        },
        "id": "o9r7pnKoWM9x",
        "outputId": "306c9370-aef1-4579-e234-f7b8369e5f23"
      },
      "outputs": [],
      "source": [
        "#MAIN\n",
        "nodes = get_formation(Node(0, 0), 'triangle')\n",
        "\n",
        "if select_trajectory():\n",
        "    distances = get_distances(nodes)\n",
        "    simulate_movement(nodes, distances)\n"
      ]
    }
  ],
  "metadata": {
    "colab": {
      "provenance": []
    },
    "kernelspec": {
      "display_name": "Python 3",
      "name": "python3"
    },
    "language_info": {
      "codemirror_mode": {
        "name": "ipython",
        "version": 3
      },
      "file_extension": ".py",
      "mimetype": "text/x-python",
      "name": "python",
      "nbconvert_exporter": "python",
      "pygments_lexer": "ipython3",
      "version": "3.9.5"
    }
  },
  "nbformat": 4,
  "nbformat_minor": 0
}
